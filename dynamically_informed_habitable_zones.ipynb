{
 "cells": [
  {
   "cell_type": "markdown",
   "metadata": {},
   "source": [
    "# Dynamically Informed Habitable Zones in Binary Star Systems\n",
    "\n",
    "Siegfried Eggl\n",
    "\n",
    "This notebook is demonstrating how to calculate dynamically informed habitable zones for circumbinary and circumstellar Habitable Zones in binary star systems."
   ]
  },
  {
   "cell_type": "code",
   "execution_count": 1,
   "metadata": {},
   "outputs": [],
   "source": [
    "import dihz"
   ]
  },
  {
   "cell_type": "code",
   "execution_count": 2,
   "metadata": {},
   "outputs": [
    {
     "name": "stdout",
     "output_type": "stream",
     "text": [
      "Help on package dihz:\n",
      "\n",
      "NAME\n",
      "    dihz\n",
      "\n",
      "PACKAGE CONTENTS\n",
      "    circumbinary\n",
      "    circumstellar\n",
      "    plot\n",
      "    seff\n",
      "    semianalytic\n",
      "    sshz\n",
      "    stability\n",
      "\n",
      "FILE\n",
      "    /Users/eggl/Documents/UW2018/publications/bhz_special_issue/python/dihz/__init__.py\n",
      "\n",
      "\n"
     ]
    }
   ],
   "source": [
    "help(dihz)"
   ]
  },
  {
   "cell_type": "markdown",
   "metadata": {},
   "source": [
    "### Calculate dynamically informed habitable zones around alpha Centauri A "
   ]
  },
  {
   "cell_type": "code",
   "execution_count": 12,
   "metadata": {},
   "outputs": [
    {
     "name": "stdout",
     "output_type": "stream",
     "text": [
      "Help on module dihz.circumstellar in dihz:\n",
      "\n",
      "NAME\n",
      "    dihz.circumstellar\n",
      "\n",
      "FUNCTIONS\n",
      "    AHZ(LA, teffA, LB, teffB, ab, eb)\n",
      "        Averaged Habitable Zone (AHZ) for S-type\n",
      "         binary star systems (Eggl, 2018).\n",
      "        \n",
      "        Parameters:\n",
      "        ----------\n",
      "        LA     ... luminosity of primary star [Lsun]\n",
      "        teffA  ... effective temperature of primary star [K]\n",
      "        LB     ... luminosity of secondary star [Lsun]\n",
      "        teffB  ... effective temperature of secondary star [K]\n",
      "        ab     ... binary star orbit semimajor axes [au]\n",
      "        eb     ... binary star orbit eccentricity\n",
      "        \n",
      "        Returns:\n",
      "        -------\n",
      "        ahzi   ... inner edge of the AHZ [au]\n",
      "        ahzo   ... outer edge of the AHZ [au]\n",
      "        \n",
      "        Requires:\n",
      "        --------\n",
      "        import numpy as np\n",
      "        Functions sinner, souter\n",
      "    \n",
      "    PHZ(LA, teffA, LB, teffB, ab, eb)\n",
      "        Permanently Habitable Zone (PHZ) for S-type\n",
      "        binary star systems (Eggl, 2018).\n",
      "        \n",
      "        Parameters:\n",
      "        ----------\n",
      "        LA     ... luminosity of primary star [Lsun]\n",
      "        teffA  ... effective temperature of primary star [K]\n",
      "        LB     ... luminosity of secondary star [Lsun]\n",
      "        teffB  ... effective temperature of secondary star [K]\n",
      "        ab     ... binary star orbit semimajor axes [au]\n",
      "        eb     ... binary star orbit eccentricity\n",
      "        \n",
      "        Returns:\n",
      "        -------\n",
      "        phzi   ... inner edge of the PHZ [au]\n",
      "        phzo   ... outer edge of the PHZ [au]\n",
      "        \n",
      "        Requires:\n",
      "        --------\n",
      "        import numpy as np\n",
      "        Functions sinner, souter\n",
      "    \n",
      "    eav2S(ab, eb, ap)\n",
      "        Average square eccentricity <e^2> of\n",
      "        planetary orbit in S-type binary system.\n",
      "        \n",
      "        Parameters:\n",
      "        ----------\n",
      "        ab ... binary orbit semimajor axes\n",
      "        eb ... binary orbit eccentricity\n",
      "        ap ... planetary orbit semimajor axes\n",
      "        \n",
      "        \n",
      "        Returns:\n",
      "        -------\n",
      "        eav2 ... average squared eccentricity of planetary orbit\n",
      "    \n",
      "    eav2Se0(ab, eb, ap)\n",
      "        Average square eccentricity <e^2> of\n",
      "        planetary orbit in S-type binary system\n",
      "        for planets on initially circular orbits.\n",
      "        \n",
      "        Parameters:\n",
      "        ----------\n",
      "        ab ... binary orbit semimajor axes\n",
      "        eb ... binary orbit eccentricity\n",
      "        ap ... planetary orbit semimajor axes\n",
      "        \n",
      "        Returns:\n",
      "        -------\n",
      "        eav2 ... average squared eccentricity of planetary orbit\n",
      "    \n",
      "    eforcedS(ab, eb, ap)\n",
      "        Forced eccentricity estimate of planetary orbit in S-type\n",
      "        binary system.\n",
      "        \n",
      "        Parameters:\n",
      "        ----------\n",
      "        ab ... binary orbit semimajor axis [au]\n",
      "        eb ... binary orbit eccentricity []\n",
      "        ap ... planetary orbit semimajor axis [au]\n",
      "        \n",
      "        Returns:\n",
      "        -------\n",
      "        emax ... maximum eccentricity of circumstellar orbit []\n",
      "    \n",
      "    epmaxS(ab, eb, ap)\n",
      "        Maximum eccentricity of planetary orbit in S-type binary system\n",
      "        assuming the planet stats out on its forced orbit.\n",
      "        \n",
      "        Parameters:\n",
      "        ----------\n",
      "        ab ... binary orbit semimajor axis [au]\n",
      "        eb ... binary orbit eccentricity []\n",
      "        ap ... planetary orbit semimajor axis [au]\n",
      "        \n",
      "        Returns:\n",
      "        -------\n",
      "        emax ... max ecc of planetary orbit in S-type binary system\n",
      "    \n",
      "    epmaxSe0(ab, eb, ap)\n",
      "        Maximum eccentricity of initially circular\n",
      "        planetary orbit in S-type binary system.\n",
      "        \n",
      "        Parameters:\n",
      "        ----------\n",
      "        ab ... binary orbit semimajor axes\n",
      "        eb ... binary orbit eccentricity\n",
      "        ap ... planetary orbit semimajor axes\n",
      "        \n",
      "        Returns:\n",
      "        -------\n",
      "        emax ... maximum eccentricity of planetary orbit\n",
      "    \n",
      "    reqb(a, e)\n",
      "        Insolation equivalent orbit distance\n",
      "        \n",
      "        Parameters:\n",
      "        ----------\n",
      "        a ... semimajor axis\n",
      "        e ... orbital eccentricity\n",
      "    \n",
      "    reqpS(ab, eb, ap)\n",
      "        Insolation equivalence radius for a planet orbiting\n",
      "        a single star in a binary star system (Eggl, 2018)\n",
      "        \n",
      "        Parameters:\n",
      "        ----------\n",
      "        ab ... binary orbit semimajor axes [au]\n",
      "        eb ... binary orbit eccentricity\n",
      "        ap ... planetary orbit semimajor axes [au]\n",
      "        \n",
      "        Returns:\n",
      "        -------\n",
      "        reqp ... equivalent radius [au]\n",
      "\n",
      "DATA\n",
      "    __all__ = ['reqb', 'reqpS', 'eforcedS', 'epmaxSe0', 'epmaxS', 'eav2S',...\n",
      "\n",
      "FILE\n",
      "    /Users/eggl/Documents/UW2018/publications/bhz_special_issue/python/dihz/circumstellar.py\n",
      "\n",
      "\n"
     ]
    }
   ],
   "source": [
    "help(dihz.circumstellar)"
   ]
  },
  {
   "cell_type": "code",
   "execution_count": 4,
   "metadata": {},
   "outputs": [],
   "source": [
    "aCenA={'L':1.519,'Teff':5790,'m':1.105}\n",
    "aCenB={'L':0.5002,'Teff':5260,'m':0.934}\n",
    "\n",
    "aCeneb=0.5179\n",
    "aCenab=23.52"
   ]
  },
  {
   "cell_type": "code",
   "execution_count": 5,
   "metadata": {},
   "outputs": [
    {
     "name": "stdout",
     "output_type": "stream",
     "text": [
      "Help on function PHZ in module dihz.circumstellar:\n",
      "\n",
      "PHZ(LA, teffA, LB, teffB, ab, eb)\n",
      "    Permanently Habitable Zone (PHZ) for S-type\n",
      "    binary star systems (Eggl, 2018).\n",
      "    \n",
      "    Parameters:\n",
      "    ----------\n",
      "    LA     ... luminosity of primary star [Lsun]\n",
      "    teffA  ... effective temperature of primary star [K]\n",
      "    LB     ... luminosity of secondary star [Lsun]\n",
      "    teffB  ... effective temperature of secondary star [K]\n",
      "    ab     ... binary star orbit semimajor axes [au]\n",
      "    eb     ... binary star orbit eccentricity\n",
      "    \n",
      "    Returns:\n",
      "    -------\n",
      "    phzi   ... inner edge of the PHZ [au]\n",
      "    phzo   ... outer edge of the PHZ [au]\n",
      "    \n",
      "    Requires:\n",
      "    --------\n",
      "    import numpy as np\n",
      "    Functions sinner, souter\n",
      "\n"
     ]
    }
   ],
   "source": [
    "help(dihz.circumstellar.PHZ)"
   ]
  },
  {
   "cell_type": "code",
   "execution_count": 6,
   "metadata": {},
   "outputs": [],
   "source": [
    "[PHZI,PHZO]=dihz.circumstellar.PHZ(aCenA['L'],aCenA['Teff'],aCenB['L'],aCenB['Teff'],aCenab,aCeneb)"
   ]
  },
  {
   "cell_type": "code",
   "execution_count": 7,
   "metadata": {},
   "outputs": [
    {
     "name": "stdout",
     "output_type": "stream",
     "text": [
      "1.2883463030947648 1.789390506372535\n"
     ]
    }
   ],
   "source": [
    "print(PHZI,PHZO)"
   ]
  },
  {
   "cell_type": "code",
   "execution_count": 8,
   "metadata": {},
   "outputs": [],
   "source": [
    "[AHZI,AHZO]=dihz.circumstellar.AHZ(aCenA['L'],aCenA['Teff'],aCenB['L'],aCenB['Teff'],aCenab,aCeneb)"
   ]
  },
  {
   "cell_type": "code",
   "execution_count": 9,
   "metadata": {},
   "outputs": [
    {
     "name": "stdout",
     "output_type": "stream",
     "text": [
      "1.1716723481342473 2.0700846625730276\n"
     ]
    }
   ],
   "source": [
    "print(AHZI,AHZO)"
   ]
  },
  {
   "cell_type": "markdown",
   "metadata": {},
   "source": [
    "### Dynamical stability limit around star A (Holman & Wiegert 1999)"
   ]
  },
  {
   "cell_type": "code",
   "execution_count": 10,
   "metadata": {},
   "outputs": [
    {
     "data": {
      "text/plain": [
       "2.776870794181294"
      ]
     },
     "execution_count": 10,
     "metadata": {},
     "output_type": "execute_result"
    }
   ],
   "source": [
    "dihz.stability.hw99S(aCenA['m'],aCenB['m'],aCenab,aCeneb)"
   ]
  },
  {
   "cell_type": "markdown",
   "metadata": {},
   "source": [
    "### Calculate dynamically informed habitable zones around a Kepler-35 like system without additional planets"
   ]
  },
  {
   "cell_type": "code",
   "execution_count": 14,
   "metadata": {},
   "outputs": [
    {
     "name": "stdout",
     "output_type": "stream",
     "text": [
      "Help on function PHZ in module dihz.circumbinary:\n",
      "\n",
      "PHZ(LA, teffA, mA, LB, teffB, mB, ab, eb)\n",
      "    Permanently Habitable Zone (PHZ) for P-type\n",
      "    binary star systems (Eggl, 2018).\n",
      "    \n",
      "    Parameters:\n",
      "    ----------\n",
      "    LA     ... luminosity of primary star [Lsun]\n",
      "    teffA  ... effective temperature of primary star [K]\n",
      "    mA     ... mass of primary star [Msun]\n",
      "    LB     ... luminosity of secondary star [Lsun]\n",
      "    teffB  ... effective temperature of secondary star [K]\n",
      "    mB     ... mass of secondary star [Msun]\n",
      "    ab     ... binary star orbit semimajor axes [au]\n",
      "    eb     ... binary star orbit eccentricity\n",
      "    \n",
      "    Returns:\n",
      "    -------\n",
      "    phzi   ... inner edge of the PHZ [au]\n",
      "    phzo   ... outer edge of the PHZ [au]\n",
      "    \n",
      "    Requires:\n",
      "    --------\n",
      "    import numpy as np\n",
      "    Functions sinner, souter\n",
      "\n"
     ]
    }
   ],
   "source": [
    "help(dihz.circumbinary.PHZ)"
   ]
  },
  {
   "cell_type": "code",
   "execution_count": 15,
   "metadata": {},
   "outputs": [],
   "source": [
    "Kep35A={'L':0.94,'Teff':5606,'m':0.8877}\n",
    "Kep35B={'L':0.41,'Teff':5202,'m':0.8094}\n",
    "\n",
    "Kep35ab=0.17617\n",
    "Kep35eb=0.1421"
   ]
  },
  {
   "cell_type": "code",
   "execution_count": 16,
   "metadata": {},
   "outputs": [],
   "source": [
    "[PHZI,PHZO]=dihz.circumbinary.PHZ(Kep35A['L'],Kep35A['Teff'],Kep35A['m'],Kep35B['L'],Kep35A['Teff'],Kep35A['m'],Kep35ab,Kep35eb)"
   ]
  },
  {
   "cell_type": "code",
   "execution_count": 17,
   "metadata": {},
   "outputs": [
    {
     "name": "stdout",
     "output_type": "stream",
     "text": [
      "1.2234773405895605 1.9126979529963704\n"
     ]
    }
   ],
   "source": [
    "print(PHZI,PHZO)"
   ]
  },
  {
   "cell_type": "code",
   "execution_count": 18,
   "metadata": {},
   "outputs": [],
   "source": [
    "[AHZI,AHZO]=dihz.circumbinary.AHZ(Kep35A['L'],Kep35A['Teff'],Kep35A['m'],Kep35B['L'],Kep35A['Teff'],Kep35A['m'],Kep35ab,Kep35eb)"
   ]
  },
  {
   "cell_type": "code",
   "execution_count": 19,
   "metadata": {},
   "outputs": [
    {
     "name": "stdout",
     "output_type": "stream",
     "text": [
      "1.1162747899565133 1.977054878916169\n"
     ]
    }
   ],
   "source": [
    "print(AHZI,AHZO)"
   ]
  },
  {
   "cell_type": "code",
   "execution_count": 21,
   "metadata": {},
   "outputs": [
    {
     "data": {
      "text/plain": [
       "0.4965947908351902"
      ]
     },
     "execution_count": 21,
     "metadata": {},
     "output_type": "execute_result"
    }
   ],
   "source": [
    "dihz.stability.hw99P(Kep35A['m'],Kep35B['m'],Kep35ab,Kep35eb)"
   ]
  },
  {
   "cell_type": "code",
   "execution_count": null,
   "metadata": {},
   "outputs": [],
   "source": []
  }
 ],
 "metadata": {
  "kernelspec": {
   "display_name": "Python 3",
   "language": "python",
   "name": "python3"
  },
  "language_info": {
   "codemirror_mode": {
    "name": "ipython",
    "version": 3
   },
   "file_extension": ".py",
   "mimetype": "text/x-python",
   "name": "python",
   "nbconvert_exporter": "python",
   "pygments_lexer": "ipython3",
   "version": "3.7.3"
  }
 },
 "nbformat": 4,
 "nbformat_minor": 2
}
